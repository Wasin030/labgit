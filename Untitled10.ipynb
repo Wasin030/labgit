{
  "nbformat": 4,
  "nbformat_minor": 0,
  "metadata": {
    "colab": {
      "provenance": []
    },
    "kernelspec": {
      "name": "python3",
      "display_name": "Python 3"
    },
    "language_info": {
      "name": "python"
    }
  },
  "cells": [
    {
      "cell_type": "code",
      "execution_count": 7,
      "metadata": {
        "id": "enKvbIhOuT8V"
      },
      "outputs": [],
      "source": [
        "#Global varinales\n",
        "accountName = ''\n",
        "accountPassword = ''\n",
        "accountbalance = 0\n"
      ]
    },
    {
      "cell_type": "code",
      "source": [
        "#ประกาศฟังก์ชัน newAccount\n",
        "def newAccount(name, balance, password):\n",
        "  global accountName, accountPassword, accountbalance\n",
        "  accountName = name\n",
        "  accountPassword = password\n",
        "  accountbalance = balance"
      ],
      "metadata": {
        "id": "rc_427w5wJtX"
      },
      "execution_count": 8,
      "outputs": []
    },
    {
      "cell_type": "code",
      "source": [
        "def showAccount():\n",
        "  global accountName, accountbalance\n",
        "  print('Name: ',accountName)\n",
        "  print('Balance: ',accountbalance)"
      ],
      "metadata": {
        "id": "VCe3gP6XxAnJ"
      },
      "execution_count": 13,
      "outputs": []
    },
    {
      "cell_type": "code",
      "source": [
        "newAccount('Wasin', 100, '9999999')\n",
        "showAccount()"
      ],
      "metadata": {
        "colab": {
          "base_uri": "https://localhost:8080/"
        },
        "id": "pXR9OvKJx0-k",
        "outputId": "60682041-951c-41e5-c93a-cba167f893c3"
      },
      "execution_count": 26,
      "outputs": [
        {
          "output_type": "stream",
          "name": "stdout",
          "text": [
            "Name:  Wasin\n",
            "Balance:  100\n"
          ]
        }
      ]
    },
    {
      "cell_type": "code",
      "source": [
        "def getBalance(password):\n",
        "  global accountName, accountBalance, accountPassword\n",
        "  if password != accountPassword:\n",
        "    print('Incorrect password')\n",
        "    return None\n",
        "  else:\n",
        "   return accountbalance"
      ],
      "metadata": {
        "id": "NLeHi_70zlmK"
      },
      "execution_count": 27,
      "outputs": []
    },
    {
      "cell_type": "code",
      "source": [
        "getBalance('9999999')"
      ],
      "metadata": {
        "colab": {
          "base_uri": "https://localhost:8080/"
        },
        "id": "zhmvXlvA0Z5d",
        "outputId": "4f2153e4-1f13-4b90-bcf5-d4b2b5bf6a17"
      },
      "execution_count": 28,
      "outputs": [
        {
          "output_type": "execute_result",
          "data": {
            "text/plain": [
              "100"
            ]
          },
          "metadata": {},
          "execution_count": 28
        }
      ]
    },
    {
      "cell_type": "code",
      "source": [
        "#ฝากเงิน\n",
        "def deposit(amountToDeposit, password):\n",
        "  global accountbalance, accountPassword\n",
        "  if amountToDeposit <= 0:\n",
        "    print('Cannot deposut negative or zero amount.')\n",
        "    return None\n",
        "  elif password != accountPassword:\n",
        "    print('Incorrect password')\n",
        "    return None\n",
        "  else:\n",
        "    accountbalance = accountbalance + amountToDeposit\n",
        "    return accountbalance\n",
        ""
      ],
      "metadata": {
        "id": "85BiaTD-2mkE"
      },
      "execution_count": 34,
      "outputs": []
    },
    {
      "cell_type": "code",
      "source": [
        "deposit(100, '9999999')"
      ],
      "metadata": {
        "colab": {
          "base_uri": "https://localhost:8080/"
        },
        "id": "1fTIw7PF3O2P",
        "outputId": "0c4d01c9-6ccf-4afb-807a-93aa43b3b0b4"
      },
      "execution_count": 133,
      "outputs": [
        {
          "output_type": "execute_result",
          "data": {
            "text/plain": [
              "190198"
            ]
          },
          "metadata": {},
          "execution_count": 133
        }
      ]
    },
    {
      "cell_type": "code",
      "source": [
        "#ถอนเงิน\n",
        "def withdraw(amountToWithdraw, password):\n",
        "  global accountName, accountbalance, accountPassword\n",
        "  if password != accountPassword:\n",
        "    print('Incorrect password')\n",
        "    return None\n",
        "  if amountToWithdraw <= 0:\n",
        "    print('Cannot withdraw negative or zero amount.')\n",
        "    return None\n",
        "  if amountToWithdraw > accountbalance:\n",
        "    print('Insufficient balance.')\n",
        "    return None\n",
        "  accountbalance = accountbalance - amountToWithdraw\n",
        "  return accountbalance\n",
        ""
      ],
      "metadata": {
        "id": "kS7wR4JO32cy"
      },
      "execution_count": 86,
      "outputs": []
    },
    {
      "cell_type": "code",
      "source": [
        "withdraw(400, '9999999')"
      ],
      "metadata": {
        "colab": {
          "base_uri": "https://localhost:8080/"
        },
        "id": "55R5SYfa4LnC",
        "outputId": "f9c0ae64-90e7-4036-d517-13c73d64da9c"
      },
      "execution_count": 134,
      "outputs": [
        {
          "output_type": "execute_result",
          "data": {
            "text/plain": [
              "189798"
            ]
          },
          "metadata": {},
          "execution_count": 134
        }
      ]
    },
    {
      "cell_type": "code",
      "source": [
        "\n",
        "from inspect import getblock\n",
        "while True:\n",
        "  print('Press b to get the balance.')\n",
        "  print('Press d to make a deposit money.')\n",
        "  print('Press w to make a withdraw money.')\n",
        "  print('Press s to show account.')\n",
        "  print('Press q to quit.')\n",
        "  action = input(\"What do you want to do?\").lower()[0]\n",
        "\n",
        "  if action == 'b':\n",
        "    amount = getBalance(input('Enter your password: '))\n",
        "    if amount != None:\n",
        "      print('Your balance is ', amount)\n",
        "\n",
        "  elif action == 'd':\n",
        "    amount = int(input('Enter amount to deposit: '))\n",
        "    newBalance = deposit(amount, input('Enter your password: '))\n",
        "    if newBalance != None:\n",
        "      print('Your new balance is ', newBalance)\n",
        "\n",
        "  elif action == 'w':\n",
        "    amount = int(input('Enter amount to withdraw: '))\n",
        "    newBalance = withdraw(amount, input('Enter your password: '))\n",
        "    if newBalance != None:\n",
        "      print('Your new balance is ', newBalance)\n",
        "\n",
        "  elif action == 's':\n",
        "    showAccount()\n",
        "\n",
        "  elif action == 'q':\n",
        "    break\n",
        "\n",
        "  else:\n",
        "    print('Unknown option, please try again.')\n",
        ""
      ],
      "metadata": {
        "colab": {
          "base_uri": "https://localhost:8080/"
        },
        "id": "hc4f4C_y7yFX",
        "outputId": "6a24f28a-c3c5-436d-b82c-cd49432ffb03"
      },
      "execution_count": 140,
      "outputs": [
        {
          "name": "stdout",
          "output_type": "stream",
          "text": [
            "Press b to get the balance.\n",
            "Press d to make a deposit money.\n",
            "Press w to make a withdraw money.\n",
            "Press s to show account.\n",
            "Press q to quit.\n",
            "What do you want to do?b\n",
            "Enter your password: 9999999\n",
            "Your balance is  798\n",
            "Press b to get the balance.\n",
            "Press d to make a deposit money.\n",
            "Press w to make a withdraw money.\n",
            "Press s to show account.\n",
            "Press q to quit.\n",
            "What do you want to do?d\n",
            "Enter amount to deposit: 10000000000\n",
            "Enter your password: 9999999\n",
            "Your new balance is  10000000798\n",
            "Press b to get the balance.\n",
            "Press d to make a deposit money.\n",
            "Press w to make a withdraw money.\n",
            "Press s to show account.\n",
            "Press q to quit.\n",
            "What do you want to do?w\n",
            "Enter amount to withdraw: 999999\n",
            "Enter your password: 9999999\n",
            "Your new balance is  9999000799\n",
            "Press b to get the balance.\n",
            "Press d to make a deposit money.\n",
            "Press w to make a withdraw money.\n",
            "Press s to show account.\n",
            "Press q to quit.\n",
            "What do you want to do?s\n",
            "Name:  Wasin\n",
            "Balance:  9999000799\n",
            "Press b to get the balance.\n",
            "Press d to make a deposit money.\n",
            "Press w to make a withdraw money.\n",
            "Press s to show account.\n",
            "Press q to quit.\n",
            "What do you want to do?q\n"
          ]
        }
      ]
    }
  ]
}